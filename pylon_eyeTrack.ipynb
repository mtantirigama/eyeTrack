{
 "cells": [
  {
   "cell_type": "code",
   "execution_count": 25,
   "metadata": {},
   "outputs": [
    {
     "name": "stdout",
     "output_type": "stream",
     "text": [
      "Using device  daA1280-54um\n"
     ]
    }
   ],
   "source": [
    "import cv2\n",
    "import numpy as np\n",
    "from pypylon import pylon\n",
    "from time import time\n",
    "import os\n",
    "\n",
    "fileloc = r\"C:\\Users\\tantirim\\Documents\\eyeTrack\"\n",
    "if not os.path.exists(fileloc):\n",
    "    os.makedirs(fileloc)\n",
    "\n",
    "camera = pylon.InstantCamera(pylon.TlFactory.GetInstance().CreateFirstDevice())\n",
    "print(\"Using device \", camera.GetDeviceInfo().GetModelName())\n",
    "\n",
    "def imgprocess(frame, r, thr, resize):\n",
    "    frame = frame.copy()\n",
    "    roi = frame[int(r[1]):int(r[1]+r[3]), int(r[0]):int(r[0]+r[2])]\n",
    "    roi = cv2.resize(roi, dsize=None, fx=resize, fy=resize)\n",
    "    rows, cols, _ = roi.shape\n",
    "    gray_roi = cv2.cvtColor(roi, cv2.COLOR_BGR2GRAY)\n",
    "    gray_roi = cv2.medianBlur(gray_roi,11) \n",
    "    thr2 = np.amin(gray_roi)+thr\n",
    "    _, threshold = cv2.threshold(gray_roi, thr2, 255, cv2.THRESH_BINARY_INV)\n",
    "    contours, _ = cv2.findContours(threshold, cv2.RETR_TREE, cv2.CHAIN_APPROX_SIMPLE)\n",
    "    contours = sorted(contours, key=lambda x: cv2.contourArea(x), reverse=True)\n",
    "    \n",
    "    for cnt in contours:      \n",
    "        (x2,y2),radius = cv2.minEnclosingCircle(cnt)\n",
    "        cv2.circle(roi, (int(x2),int(y2)), int(radius), (0, 0, 255), 1)\n",
    "        cv2.line(roi, (int(x2), 0), (int(x2), rows), (0, 255, 0), 1)\n",
    "        cv2.line(roi, (0, int(y2)), (cols, int(y2)), (0, 255, 0), 1)\n",
    "        break    \n",
    "    \n",
    "    return roi"
   ]
  },
  {
   "cell_type": "code",
   "execution_count": 26,
   "metadata": {},
   "outputs": [
    {
     "name": "stdout",
     "output_type": "stream",
     "text": [
      "Frame rate is  33.33444448148271\n"
     ]
    }
   ],
   "source": [
    "# Grab single frame to specify ROI\n",
    "\n",
    "camera.StartGrabbing(pylon.GrabStrategy_LatestImageOnly) \n",
    "converter = pylon.ImageFormatConverter()\n",
    "converter.OutputPixelFormat = pylon.PixelType_BGR8packed\n",
    "converter.OutputBitAlignment = pylon.OutputBitAlignment_MsbAligned\n",
    "\n",
    "if __name__ == '__main__' :\n",
    "    grabResult = camera.RetrieveResult(5000, pylon.TimeoutHandling_ThrowException)\n",
    "    if grabResult.GrabSucceeded():\n",
    "        image = converter.Convert(grabResult)\n",
    "        frame = image.GetArray()\n",
    "        rows, cols, _ = frame.shape\n",
    "        r = cv2.selectROI(frame)\n",
    "        fps_cv2 = camera.ResultingFrameRate.GetValue();\n",
    "        print(\"Frame rate is \", fps_cv2)\n",
    "        cv2.waitKey(0)\n",
    "    else:\n",
    "        print(\"Camera didnt grab\")\n",
    "    grabResult.Release()\n",
    "    \n",
    "camera.StopGrabbing()        \n",
    "cv2.destroyAllWindows()"
   ]
  },
  {
   "cell_type": "code",
   "execution_count": 27,
   "metadata": {},
   "outputs": [],
   "source": [
    "# Grabing frames continusely\n",
    "\n",
    "filename = \"basler_n0003_lep\" #saveas name, will overwrite if unchanged\n",
    "thr = 10 # adjust threshold\n",
    "resize = 3\n",
    "\n",
    "camera.StartGrabbing(pylon.GrabStrategy_LatestImageOnly) \n",
    "converter = pylon.ImageFormatConverter()\n",
    "converter.OutputPixelFormat = pylon.PixelType_BGR8packed\n",
    "converter.OutputBitAlignment = pylon.OutputBitAlignment_MsbAligned\n",
    "fourcc = cv2.VideoWriter_fourcc('M','J','P','G')\n",
    "out_raw = cv2.VideoWriter(fileloc + \"\\\\\" + filename + \"_raw.avi\",fourcc, \n",
    "                      float(fps_cv2), (int(cols),int(rows)))\n",
    "\n",
    "start = time()\n",
    "t0 = 0\n",
    "while camera.IsGrabbing():\n",
    "    grabResult = camera.RetrieveResult(5000, pylon.TimeoutHandling_ThrowException)\n",
    "    if grabResult.GrabSucceeded():        \n",
    "        image = converter.Convert(grabResult)\n",
    "        img = image.GetArray()\n",
    "        roi = imgprocess(img, r, thr,resize)        \n",
    "\n",
    "        d = round(camera.ResultingFrameRate.GetValue(),2);        \n",
    "        now = round(float(time()-start),2)        \n",
    "        ts = '{} fps, t = {} s'.format(d, now)        \n",
    "        cv2.putText(roi, ts, (10,20), cv2.FONT_HERSHEY_SIMPLEX,0.5,(255, 100, 0),1)\n",
    "        out_raw.write(img)\n",
    "        cv2.moveWindow(\"Roi\", 2,100)\n",
    "        cv2.moveWindow(\"title\", 500,100)        \n",
    "        cv2.imshow('title', img)\n",
    "        cv2.imshow(\"Roi\", roi)\n",
    "\n",
    "        k = cv2.waitKey(1)\n",
    "        if k == 27:\n",
    "            break\n",
    "    else:\n",
    "        print(\"Camera didnt grab\")\n",
    "    grabResult.Release()\n",
    "       \n",
    "camera.StopGrabbing()\n",
    "out_raw.release()\n",
    "cv2.destroyAllWindows()"
   ]
  },
  {
   "cell_type": "code",
   "execution_count": 18,
   "metadata": {},
   "outputs": [],
   "source": [
    "camera.StopGrabbing() # stop camera manually"
   ]
  }
 ],
 "metadata": {
  "kernelspec": {
   "display_name": "Python 3",
   "language": "python",
   "name": "python3"
  },
  "language_info": {
   "codemirror_mode": {
    "name": "ipython",
    "version": 3
   },
   "file_extension": ".py",
   "mimetype": "text/x-python",
   "name": "python",
   "nbconvert_exporter": "python",
   "pygments_lexer": "ipython3",
   "version": "3.7.4"
  }
 },
 "nbformat": 4,
 "nbformat_minor": 4
}
